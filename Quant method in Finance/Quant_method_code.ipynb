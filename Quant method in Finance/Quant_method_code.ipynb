{
 "cells": [
  {
   "cell_type": "markdown",
   "metadata": {},
   "source": [
    "# Monte Carlo control variance Simulation Asian option"
   ]
  },
  {
   "cell_type": "code",
   "execution_count": null,
   "metadata": {},
   "outputs": [],
   "source": [
    "'''\n",
    "Group member:\n",
    "Dai tianjiao (td2236)\n",
    "Zheng Jiajing (jz3420)\n",
    "Zhao yunhao (yz8385)\n",
    "\n",
    "Professor:\n",
    "Daniel Totouom Tangho\n",
    "\n",
    "'''\n"
   ]
  },
  {
   "cell_type": "code",
   "execution_count": 1,
   "metadata": {},
   "outputs": [],
   "source": [
    "import numpy as np\n",
    "import numpy.random as npr\n",
    "import math\n",
    "import matplotlib.pyplot as plt"
   ]
  },
  {
   "cell_type": "markdown",
   "metadata": {},
   "source": [
    "Simulate Stock Prices using Geometric Brownian Motion\n"
   ]
  },
  {
   "cell_type": "markdown",
   "metadata": {},
   "source": [
    "$S_t = S_0 \\exp{((r - \\sigma^2 / 2) t + \\sigma B_t)}$"
   ]
  },
  {
   "cell_type": "code",
   "execution_count": 2,
   "metadata": {},
   "outputs": [],
   "source": [
    "#Initial parameters\n",
    "T = 1 # time interval=1day\n",
    "N = 252 # time interval number=1year\n",
    "S0 = 100 # initial stock price\n",
    "K = 80 # strike price\n",
    "sig = 0.2 # volatility\n",
    "r = 0.1 # expected return rate = risk-free rate\n",
    "#Simulates stock prices\n",
    "np.random.seed(123)#Random seeds are the same every time\n",
    "Sr=0\n",
    "Cr=0\n",
    "n=100\n",
    "m=100\n",
    "\n",
    "for i in range(n):\n",
    "    s0=0\n",
    "    Sij_1=S0\n",
    "    t = np.linspace(0, 1, m + 1)\n",
    "    for j in range(m):\n",
    "        u, std = 0, math.sqrt(T / m)\n",
    "        zij=np.random.normal(u, std, 1)      \n",
    "        Sij = Sij_1 * np.exp((r - sig ** 2/2) * t[i] + sig * zij)\n",
    "        Sij_1=Sij\n",
    "        s0+=np.maximum(0, (Sij-K))\n",
    "        Cj=np.maximum(0, (Sij-K))*np.exp(r* T*(-1))\n",
    "    s=s0/m\n",
    "    Sr+=np.maximum(0, (s-K))\n",
    "    Ci=np.maximum(0, (s-K))*np.exp(r* T*(-1))\n",
    "    Cr+=Ci\n",
    "S=Sr/n/m\n",
    "C=Cr/n/m"
   ]
  },
  {
   "cell_type": "code",
   "execution_count": 3,
   "metadata": {},
   "outputs": [
    {
     "data": {
      "text/plain": [
       "array([54.03252613])"
      ]
     },
     "execution_count": 3,
     "metadata": {},
     "output_type": "execute_result"
    }
   ],
   "source": [
    "S"
   ]
  },
  {
   "cell_type": "code",
   "execution_count": null,
   "metadata": {},
   "outputs": [],
   "source": [
    "# PDE"
   ]
  },
  {
   "cell_type": "code",
   "execution_count": 4,
   "metadata": {},
   "outputs": [],
   "source": [
    "S0=100   \n",
    "u=0.05 \n",
    "sigma=0.2\n",
    "lamb=0.75 \n",
    "mu=-0.6  \n",
    "delta=0.25 \n",
    "T=1.0 \n",
    "M=252 \n",
    "I=10000\n",
    "dt=T/M \n",
    "\n",
    "rj=lamb*(np.exp(mu+0.5*delta**2)-1)\n",
    "S=np.zeros((M+1,I))\n",
    "S[0]=S0\n",
    "sn1=npr.standard_normal((M+1,I))\n",
    "sn2=npr.standard_normal((M+1,I))\n",
    "poi=npr.poisson(lamb*dt,(M+1,I))\n",
    "Sr=0\n",
    "Cr=0\n",
    "\n",
    "for t in range(1,M+1,1):\n",
    "    S[t]=S[t-1]*(np.exp((u-rj-0.5*sigma**2)*dt)+sigma*np.sqrt(dt)*sn1[t]+(np.exp(mu+delta*sn2[t])-1)*poi[t])\n",
    "    S[t]=np.maximum((S[t]-K),0)\n",
    "    Sr+=np.mean(S[t])\n",
    "    Ci=S[t]*np.exp(rj*dt*(-1))\n",
    "    Cr+=np.mean(Ci)\n",
    "S=Sr\n",
    "c=Cr"
   ]
  },
  {
   "cell_type": "code",
   "execution_count": 5,
   "metadata": {},
   "outputs": [
    {
     "data": {
      "text/plain": [
       "20.086808702002074"
      ]
     },
     "execution_count": 5,
     "metadata": {},
     "output_type": "execute_result"
    }
   ],
   "source": [
    "S"
   ]
  },
  {
   "cell_type": "markdown",
   "metadata": {},
   "source": [
    "# PDE Ingersoll method"
   ]
  },
  {
   "cell_type": "code",
   "execution_count": 12,
   "metadata": {},
   "outputs": [],
   "source": [
    "import numpy.random as npr\n",
    "x0=0.05 \n",
    "kappa=3.0 \n",
    "theta=0.02 \n",
    "sigma=0.1 \n",
    "I=100\n",
    "M=100#252*2 \n",
    "dt=T/M \n",
    "Sr=0\n",
    "Cr=0\n",
    "n=100\n",
    "\n",
    "s0=0\n",
    "xh=np.zeros((M+1,I)) \n",
    "x1=np.zeros_like(xh) \n",
    "xh[0]=x0 \n",
    "x1[0]=x0 \n",
    "for t in range(1,M+1): \n",
    "    xh[t]=(xh[t-1]+kappa*(theta-np.maximum(xh[t-1],0))*dt+sigma*np.sqrt(np.maximum(xh[t-1],0))*np.sqrt(dt)*npr.standard_normal(I)) \n",
    "    x1=np.maximum(xh,0) \n",
    "    s0=np.mean(np.maximum(0, (np.exp(x1*T*M)-K)))\n",
    "    Sr+=s0\n",
    "    Ci=s0*np.exp(r* T*(-1))\n",
    "    Cr+=Ci\n",
    "S=Sr/Mkappa\n",
    "C=Cr/M"
   ]
  },
  {
   "cell_type": "code",
   "execution_count": 13,
   "metadata": {},
   "outputs": [
    {
     "data": {
      "text/plain": [
       "5.6904944147880325"
      ]
     },
     "execution_count": 13,
     "metadata": {},
     "output_type": "execute_result"
    }
   ],
   "source": [
    "S"
   ]
  },
  {
   "cell_type": "markdown",
   "metadata": {},
   "source": [
    "# before"
   ]
  },
  {
   "cell_type": "code",
   "execution_count": null,
   "metadata": {},
   "outputs": [],
   "source": [
    "import numpy as np\n",
    "import math\n",
    "import matplotlib.pyplot as plt"
   ]
  },
  {
   "cell_type": "code",
   "execution_count": 2,
   "metadata": {},
   "outputs": [],
   "source": [
    "# Simulates stock prices function using Geometric Brownian Motion.\n",
    "def simulate_stock_price(T, N, S0, sig, r):   \n",
    "    b = np.array([0])\n",
    "    Eu, std = 0, math.sqrt(T / N) #mean and standard deviation ==>Bt\n",
    "    s = np.append(0, np.random.normal(Eu, std, N))#N samples with normal distribution\n",
    "    Bt = np.cumsum(s)#cumulative sum\n",
    "    t = np.linspace(0, 1, N + 1)#0-1 split N+1\n",
    "    St = S0 * np.exp((r - sig ** 2/2) * t + sig * Bt)# create N+1 St\n",
    "    return St"
   ]
  },
  {
   "cell_type": "code",
   "execution_count": 3,
   "metadata": {},
   "outputs": [
    {
     "data": {
      "text/plain": [
       "Text(0.5, 1.0, 'Simulates Stock Prices using Geometric Brownian Motion')"
      ]
     },
     "execution_count": 3,
     "metadata": {},
     "output_type": "execute_result"
    },
    {
     "data": {
      "image/png": "[encoded data removed]",
      "text/plain": [
       "<Figure size 432x288 with 1 Axes>"
      ]
     },
     "metadata": {
      "needs_background": "light"
     },
     "output_type": "display_data"
    }
   ],
   "source": [
    "#Initial parameters\n",
    "T = 1 # time interval=1day\n",
    "N = 252 # time interval number=1year\n",
    "S0 = 100 # initial stock price\n",
    "K = 80 # strike price\n",
    "sig = 0.2 # volatility\n",
    "r = 0.1 # expected return rate = risk-free rate\n",
    "#Simulates stock prices\n",
    "np.random.seed(123)#Random seeds are the same every time\n",
    "St = simulate_stock_price(T, N, S0, sig, r)#\n",
    "t = np.linspace(0, 1, N + 1)\n",
    "plt.plot(t, St)\n",
    "plt.ylabel(\"Stock price\")\n",
    "plt.xlabel(\"Time t\")\n",
    "plt.title(\"Simulates Stock Prices using Geometric Brownian Motion\")"
   ]
  },
  {
   "cell_type": "code",
   "execution_count": 4,
   "metadata": {},
   "outputs": [],
   "source": [
    "#function Asian option using Monte Carlo Simulation\n",
    "def MCS_asian_option_prices(T,S0, K, r,sig,option_type,strike_type,M):\n",
    "    payoffs = np.zeros(M)\n",
    "    for i in range(M):#M times\n",
    "        St = simulate_stock_price(T, N, S0, sig, r)\n",
    "        S_mean = np.mean(St)\n",
    "        # calculate payoffs\n",
    "        payoff = 0\n",
    "        #option_type,strike_type==>payoff\n",
    "        if option_type == \"call\":\n",
    "            payoff = np.maximum(0, S_mean - K) if strike_type == \"fixed\" else np.maximum(0, St[-1] - S_mean)\n",
    "        elif option_type == \"put\":\n",
    "            payoff = np.maximum(0, K - S_mean) if strike_type == \"fixed\" else np.maximum(0, S_mean - St[-1])\n",
    "        #==>payoffs M times\n",
    "        payoffs[i] = payoff\n",
    "        result=np.round(np.exp(-1 * r * T) * np.mean(payoffs),4)# out\n",
    "    return result"
   ]
  },
  {
   "cell_type": "code",
   "execution_count": 5,
   "metadata": {},
   "outputs": [
    {
     "name": "stdout",
     "output_type": "stream",
     "text": [
      "fixed-strike Asian call price:  22.9389\n"
     ]
    },
    {
     "data": {
      "text/plain": [
       "Text(0.5, 1.0, 'Asian call price & Monte Carlo Simulation')"
      ]
     },
     "execution_count": 5,
     "metadata": {},
     "output_type": "execute_result"
    },
    {
     "data": {
      "image/png": "[encoded data removed]",
      "text/plain": [
       "<Figure size 432x288 with 1 Axes>"
      ]
     },
     "metadata": {
      "needs_background": "light"
     },
     "output_type": "display_data"
    }
   ],
   "source": [
    "number_simulation=[100, 500, 1000, 3000, 5000, 8000, 10000]\n",
    "fixed_strike_call_p = np.zeros(len(number_simulation))\n",
    "\n",
    "for i in range(len(number_simulation)):\n",
    "    np.random.seed(123)\n",
    "    fixed_strike_call_p[i] = MCS_asian_option_prices(T,S0, K, r,sig,'call','fixed',number_simulation[i])\n",
    "print(\"fixed-strike Asian call price: \", fixed_strike_call_p[-1])\n",
    "plt.plot([str(x) for x in number_simulation], fixed_strike_call_p)\n",
    "plt.ylabel(\"fixed-strike Asian call price\")\n",
    "plt.xlabel(\"Number of simulation\")\n",
    "plt.title(\"Asian call price & Monte Carlo Simulation\")"
   ]
  },
  {
   "cell_type": "code",
   "execution_count": 6,
   "metadata": {},
   "outputs": [
    {
     "name": "stdout",
     "output_type": "stream",
     "text": [
      "fixed-strike Asian call price:  2.5362\n"
     ]
    },
    {
     "data": {
      "text/plain": [
       "Text(0.5, 1.0, ' Asian put price & Monte Carlo Simulation')"
      ]
     },
     "execution_count": 6,
     "metadata": {},
     "output_type": "execute_result"
    },
    {
     "data": {
      "image/png": "[encoded data removed]",
      "text/plain": [
       "<Figure size 432x288 with 1 Axes>"
      ]
     },
     "metadata": {
      "needs_background": "light"
     },
     "output_type": "display_data"
    }
   ],
   "source": [
    "number_simulation=[100, 500, 1000, 3000, 5000, 8000, 10000]\n",
    "nfixed_strike_put_p = np.zeros(len(number_simulation))\n",
    "\n",
    "for i in range(len(number_simulation)):\n",
    "    np.random.seed(123)\n",
    "    nfixed_strike_put_p[i] = MCS_asian_option_prices(T,S0, K, r,sig,'put','no-fixed',number_simulation[i])\n",
    "print(\"fixed-strike Asian call price: \", nfixed_strike_put_p[-1])\n",
    "plt.plot([str(x) for x in number_simulation], nfixed_strike_put_p)\n",
    "plt.ylabel(\"no fixed-strike Asian put price\")\n",
    "plt.xlabel(\"Number of simulation\")\n",
    "plt.title(\" Asian put price & Monte Carlo Simulation\")"
   ]
  },
  {
   "cell_type": "markdown",
   "metadata": {},
   "source": [
    "# PDE analysis Asian option"
   ]
  },
  {
   "cell_type": "code",
   "execution_count": 7,
   "metadata": {},
   "outputs": [],
   "source": [
    "def payoff(st, K,option_type,strike_type):\n",
    "    pay_off = []\n",
    "    for i in range(len(st)):\n",
    "        if i==0:\n",
    "            smean=st[0]\n",
    "        else:\n",
    "            #Average between two points i-1 and i\n",
    "            smean=np.mean(st[i-1:i+1])\n",
    "        if option_type == \"call\":\n",
    "            pay_off.append(np.maximum(0, smean - K) if strike_type == \"fixed\" else np.maximum(0, st[i] - smean))\n",
    "        elif option_type == \"put\":\n",
    "            pay_off.append(np.maximum(0, K - smean) if strike_type == \"fixed\" else np.maximum(0, smean - st[i]))\n",
    "    return pay_off"
   ]
  },
  {
   "cell_type": "code",
   "execution_count": 8,
   "metadata": {},
   "outputs": [],
   "source": [
    "def pde_asian(r, sig, t, T, S0, B, K, Nt, Ns, R,option_type,strike_type):\n",
    "    # Define s grid points\n",
    "    ds = (R - B)/Ns\n",
    "    st = [B + ds*k for k in range(Ns+1)]\n",
    "    # Define M: shape(Ns+1)\n",
    "    M = np.identity(Ns+1)\n",
    "    for i in range(1,Ns):\n",
    "        # a_k\n",
    "        M[i][i-1] = -dt*(-r*st[i]/(2*ds) + sig**2*(st[i]**2)/(2*(ds**2)))\n",
    "        # b_k\n",
    "        M[i][i] = 1 + r*dt + sig**2*(st[i]**2)*dt/(ds**2)\n",
    "        # c_k\n",
    "        M[i][i+1] = -dt*(r*st[i]/(2*ds) + sig**2*(st[i]**2)/(2*(ds**2)))\n",
    "\n",
    "    M_inv = np.linalg.inv(M)\n",
    "    feature_value,feature_vector=np.linalg.eig(M)\n",
    "    #error\n",
    "    error=np.mean(np.dot(feature_value,feature_vector))\n",
    "    print('error',error)\n",
    "    # Let V_Nt =(g(x_0),...,g(x_Nx))\n",
    "    V_Nt = payoff(st,K,option_type,strike_type)\n",
    "    # Build a matrix to store grid points\n",
    "    grid_points = np.array([V_Nt]*(1+Nt)).T\n",
    "    # iterate backward n = Nt,Nt−1,...,1\n",
    "    for n in range(Nt,0,-1):\n",
    "        # Compute C_(n-1)\n",
    "        C = np.concatenate(([0]*Ns,[K*(np.exp(-r*T+r*(t+dt*n))-np.exp(-r*T+r*(t+dt*(n-1))))]))\n",
    "        # Compute V_(n-1) from V_n\n",
    "        grid_points[:,n-1] = M_inv@grid_points[:,n] + C\n",
    "\n",
    "    s_point = int((S0-B)/ds)\n",
    "    result=np.round(grid_points[s_point,0],4)\n",
    "    return result\n",
    "    "
   ]
  },
  {
   "cell_type": "code",
   "execution_count": 9,
   "metadata": {},
   "outputs": [
    {
     "name": "stdout",
     "output_type": "stream",
     "text": [
      "error 2.5011045357896404\n",
      "error 14.614472555626639\n",
      "error 26.019110721483823\n",
      "error 31.760516709331725\n",
      "error -13.835539023645717\n",
      "error 37.705329632912374\n",
      "error 51.38714254020585\n",
      "error 27.933190770505195\n",
      "error -6.325014036522986\n",
      "The price of the option at time t based on PDE is: \n",
      " 26.9902\n"
     ]
    },
    {
     "data": {
      "text/plain": [
       "Text(0.5, 1.0, ' Asian put price & Monte Carlo Simulation')"
      ]
     },
     "execution_count": 9,
     "metadata": {},
     "output_type": "execute_result"
    },
    {
     "data": {
      "image/png": "[encoded data removed]",
      "text/plain": [
       "<Figure size 432x288 with 1 Axes>"
      ]
     },
     "metadata": {
      "needs_background": "light"
     },
     "output_type": "display_data"
    }
   ],
   "source": [
    "T = 1\n",
    "N = 252\n",
    "S0 = 100\n",
    "K = 80\n",
    "sig =  0.2\n",
    "r = 0.1\n",
    "t = 0\n",
    "Nt = 252\n",
    "Ns = 2200\n",
    "R = 300\n",
    "B = 80\n",
    "dt = T/N\n",
    "option_type=\"call\"\n",
    "strike_type = \"fixed\"\n",
    "ns=[500,800,1000,1500,1800,2000,2200,2500,3000]\n",
    "pde_price=[]\n",
    "for Ns in ns:\n",
    "    pde_price.append(pde_asian(r, sig, t, T, S0, B, K, Nt, Ns, R,option_type,strike_type))\n",
    "print('The price of the option at time t based on PDE is: \\n',pde_price[-1])\n",
    "plt.plot([str(x) for x in ns], pde_price)\n",
    "plt.ylabel(\"fixed-strike Asian call price\")\n",
    "plt.xlabel(\"Number of simulation\")\n",
    "plt.title(\" Asian put price & Monte Carlo Simulation\")"
   ]
  },
  {
   "cell_type": "markdown",
   "metadata": {},
   "source": [
    "# Pricing Asian Options and Basket Options by Monte Carlo Methods"
   ]
  },
  {
   "cell_type": "markdown",
   "metadata": {},
   "source": [
    "#### Algorithm of Naive Monte Carlo Method for Basket Call Option"
   ]
  },
  {
   "cell_type": "code",
   "execution_count": 13,
   "metadata": {},
   "outputs": [],
   "source": [
    "n=1000\n",
    "T=1\n",
    "d=5\n",
    "w=[0.1,0.2,0.1,0.3,0.3]\n",
    "s0=[100,85,110,75,90]\n",
    "K=80\n",
    "sig=[0.1,0.2,0.1,0.2,0.1]\n",
    "delt=[0.1,0.1,0.1,0.1,0.1]\n",
    "R=np.array([[1,0.9,0.8,0.8,0.6],[0.9,1,0.8,0.6,0.7],[0.8,0.8,1,0.7,0.6],[0.8,0.6,0.7,1,0.9],[0.6,0.7,0.7,0.9,1]])"
   ]
  },
  {
   "cell_type": "code",
   "execution_count": 96,
   "metadata": {},
   "outputs": [
    {
     "name": "stderr",
     "output_type": "stream",
     "text": [
      "<ipython-input-96-96fd5825c193>:6: RuntimeWarning: overflow encountered in exp\n",
      "  Sit=[s0[i]*(np.exp((r-delt[i]-sig[i]**2/2)*T +sig[i]*(T**0.5)*np.sum((L[i]*ksi)[:(i+1)])))for i in range(d)]\n",
      "<ipython-input-96-96fd5825c193>:6: RuntimeWarning: overflow encountered in double_scalars\n",
      "  Sit=[s0[i]*(np.exp((r-delt[i]-sig[i]**2/2)*T +sig[i]*(T**0.5)*np.sum((L[i]*ksi)[:(i+1)])))for i in range(d)]\n"
     ]
    }
   ],
   "source": [
    "R1 = np.dot(R,R.T)\n",
    "L = np.tril(R1)\n",
    "Ym=[]\n",
    "for m in range(n):\n",
    "    ksi=np.random.normal(0,1,5)\n",
    "    Sit=[s0[i]*(np.exp((r-delt[i]-sig[i]**2/2)*T +sig[i]*(T**0.5)*np.sum((L[i]*ksi)[:(i+1)])))for i in range(d)]\n",
    "    pa=np.max(np.sum(np.array(w)*np.array(Sit))-K,0)\n",
    "    g=np.exp(np.sum(np.array(w)*math.log(np.array(Sit[1]))))\n",
    "    A=np.sum(np.array(w)*np.array(Sit))\n",
    "    if g>K:\n",
    "        W=(A-K)\n",
    "    else:\n",
    "        W=0\n",
    "    uw=[np.sum(w[i]*np.exp(delt[i]+sig[i]**2/2))-K for i in range(d)]\n",
    "    c1=0.1#-np.cov(pa,W)/np.var(W)\n",
    "    Ym.append(np.exp(-r**T)*(Sit[0]-K))#*(pa+np.dot(c1*(W-uw)))\n",
    "y=np.mean(Ym)\n",
    "y\n",
    "\n",
    "                \n",
    "\n"
   ]
  },
  {
   "cell_type": "markdown",
   "metadata": {},
   "source": [
    "# Monte Carlo with Control Variate"
   ]
  },
  {
   "cell_type": "code",
   "execution_count": null,
   "metadata": {},
   "outputs": [],
   "source": [
    "import math\n",
    "import random\n",
    "from scipy.stats import norm"
   ]
  },
  {
   "cell_type": "code",
   "execution_count": null,
   "metadata": {},
   "outputs": [],
   "source": [
    "def geo_path(mu,sigma2,t,S):\n",
    "    path = np.zeros(len(t))\n",
    "    path[0] = S*np.exp((mu-sigma2/2)*t[0]+math.pow(sigma2*t[0],0.5)*random.gauss(mu=0, sigma = 1))\n",
    "    for i in range(1,len(t)):\n",
    "        delta = t[x]-t[x-1]\n",
    "        path[x] = path[x-1]*np.exp((mu-sigma2/2)*delta)+math.pow(sigma2*t[0],0.5)*random.gauss(mu=0, sigma = 1)\n",
    "    return(path)\n",
    "\n",
    "def geo_mean(values):\n",
    "    mean = np.mean(np.log(values))\n",
    "    return(np.exp(mean))\n",
    "\n",
    "def payoff_geo(K,path):\n",
    "    payoff = max(geo_mean(path)-K,0)\n",
    "    return(payoff)\n",
    "\n",
    "#calculate the expected payoff from geometric Asian\n",
    "def geo_payoff(mu,sigma2,t,S,K): \n",
    "    t_mean = np.mean(t)\n",
    "    v = np.zeros(len(t))\n",
    "    for i in range(0,len(t)):\n",
    "        v[i]=2*(len(t)-i)-1\n",
    "    total = np.dot(t,v)\n",
    "    sigma2_mean = sigma2*total/(math.pow(len(t),2)*t_mean)\n",
    "    mu_mean = mu+(sigma2_mean-sigma2)/2\n",
    "    d_1 = (np.log(S/K)+(mu_mean + sigma2_mean/2)*t_mean)/math.pow(sigma2_mean*t_mean,0.5)\n",
    "    d_2 = d_1 - (math.pow(sigma2_mean,0.5))\n",
    "    result = np.exp(mu_mean*t_mean)*S*norm.cdf(d_1)-K*norm.cdf(d_2))\n",
    "    return result\n",
    "    \n",
    "def payoff_ari(K,path):\n",
    "    payoff = max(np.mean(path)-K,0)\n",
    "    return(payoff)\n"
   ]
  },
  {
   "cell_type": "code",
   "execution_count": null,
   "metadata": {},
   "outputs": [],
   "source": [
    "#Monte Carlo with control variate\n",
    "def optimal_control_coefficient(mu,sigma2,t,S,K,sims):\n",
    "    geometry = np.zeros(sims)\n",
    "    arithmetic = np.zeros(sims)\n",
    "    for n in range(0,sims):\n",
    "        path = geo_path(mu,sigma2,t,S)\n",
    "        geometry[n] = payoff_geo(K,path)\n",
    "        arithmetic[n] = payoff_ari(K,path)\n",
    "    S_xy = 0\n",
    "    Variance_x = 0\n",
    "    for n in range(0,sims):\n",
    "        S_xy = S_xy + (geometry[n]-np.mean(geometry))*(arithmetic[n]-np.mean(arithmetic))\n",
    "        Variance_x = Variance_x + geometry[n]-math.pow(np.mean(geometry),2)\n",
    "    return(S_xy/Variance_x)\n",
    "\n",
    "def optimal_coefficient_K(mu,sigma2,t,S,K,sim):\n",
    "    result = np.zeros(len(K))\n",
    "    for n in range(0,len(K)):\n",
    "        K_0 = K[n]\n",
    "        result[n] = optimal_control_coefficient(mu,sigma2,t,S,K,sims)\n",
    "    return(result)\n",
    "\n",
    "#Estimate expected payoff from arithmetic Asian options with control variates\n",
    "def expected_payoff_arithmetic(mu,sigma2,t,S,K,sim,b):\n",
    "    geometry = np.zeros(sim)\n",
    "    arithmetic = np.zeros(sim)\n",
    "    for n in range(0,sim):\n",
    "        path = geometric_path(mu,sigma2,t,S)\n",
    "        arithmetic[n] = payoff_ari(K,path)\n",
    "        geometric[n] = payoff_geo(K,path)-geo_payoff(mu,sigma2,t,S,K)\n",
    "    result = np.mean(arithmetic)-b*np.mean(geometry)\n",
    "    return(result)\n",
    "\n",
    "#estimate expected payoff from arithmetic Asian for several values of K\n",
    "#with control variates\n",
    "def expected_payoff_ari_K(mu,sigma2,t,S,K,sim,b):\n",
    "    geometry = np.zeros([len(K),sim])\n",
    "    arithmetic = np.zeros([len(K),sim])\n",
    "    result = np.zeros(len(K))\n",
    "    for n in range(0,sim):\n",
    "        path = geo_path(mu,sigma2,t,S)\n",
    "        for m in range(0,len(K)):\n",
    "            item = K[m]\n",
    "            arithmetic[m,n] = payoff_ari(K,path)\n",
    "            geometry[m,n] = payoff_geo(K,path)-geo_payoff(mu,sigma2,t,S,K)\n",
    "    for m in range(0,len(K)):\n",
    "        final[m] = np.mean(arithmetic[m,:])-b[m]*np.mean(geometry[m,:])\n",
    "    return(final)   \n",
    "    "
   ]
  }
 ],
 "metadata": {
  "kernelspec": {
   "display_name": "Python 3",
   "language": "python",
   "name": "python3"
  },
  "language_info": {
   "codemirror_mode": {
    "name": "ipython",
    "version": 3
   },
   "file_extension": ".py",
   "mimetype": "text/x-python",
   "name": "python",
   "nbconvert_exporter": "python",
   "pygments_lexer": "ipython3",
   "version": "3.8.3"
  }
 },
 "nbformat": 4,
 "nbformat_minor": 5
}
